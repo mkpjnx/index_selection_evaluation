{
 "cells": [
  {
   "cell_type": "code",
   "execution_count": 1,
   "metadata": {},
   "outputs": [],
   "source": [
    "import pandas as pd\n",
    "import ast\n",
    "\n",
    "useful_cols = ['parameters', 'algorithm runtime', 'algorithm cost time', 'algorithm index creation time', 'algorithm created #indexes','index create time', 'cost requests','cost estimate', 'indexed columns']\n",
    "\n",
    "filtered_df = pd.read_csv(\"/home/peijingx/repos/index_selection_evaluation/benchmark_results/results_extend_filtered_custom_tpch_78_queries.csv\", sep=';', usecols = useful_cols)\n",
    "filtered_df['parameters'] = filtered_df['parameters'].apply(ast.literal_eval)\n",
    "\n",
    "extract_clause = lambda x: x['candidate_file'].split('_')[-1][:-5]\n",
    "filtered_df['clauses'] = filtered_df['parameters'].apply(extract_clause)\n",
    "filtered_df.drop('parameters', axis = 1, inplace=True)"
   ]
  },
  {
   "cell_type": "code",
   "execution_count": 2,
   "metadata": {},
   "outputs": [
    {
     "name": "stdout",
     "output_type": "stream",
     "text": [
      "create index customer(c_custkey,c_nationkey,c_address);\n",
      "create index lineitem(l_orderkey);\n",
      "create index lineitem(l_orderkey,l_receiptdate);\n",
      "create index lineitem(l_partkey,l_shipdate,l_suppkey);\n",
      "create index lineitem(l_receiptdate);\n",
      "create index lineitem(l_shipdate);\n",
      "create index orders(o_custkey,o_orderdate,o_orderkey,o_shippriority);\n",
      "create index orders(o_orderdate);\n",
      "create index orders(o_orderkey,o_orderpriority);\n",
      "create index part(p_partkey);\n",
      "create index partsupp(ps_partkey);\n"
     ]
    }
   ],
   "source": [
    "experiment = ast.literal_eval( \n",
    "  filtered_df.sort_values('cost estimate')[['indexed columns', 'clauses']].iloc[0]['indexed columns']\n",
    ")\n",
    "\n",
    "for i in experiment:\n",
    "  print(f'create index {i};')"
   ]
  },
  {
   "cell_type": "code",
   "execution_count": 3,
   "metadata": {},
   "outputs": [
    {
     "data": {
      "text/plain": [
       "['customer(c_custkey,c_nationkey,c_address)',\n",
       " 'lineitem(l_orderkey)',\n",
       " 'lineitem(l_orderkey,l_receiptdate)',\n",
       " 'lineitem(l_partkey,l_shipdate,l_suppkey)',\n",
       " 'lineitem(l_receiptdate)',\n",
       " 'lineitem(l_shipdate)',\n",
       " 'orders(o_custkey,o_orderdate,o_orderkey,o_shippriority)',\n",
       " 'orders(o_orderdate)',\n",
       " 'orders(o_orderkey,o_orderpriority)',\n",
       " 'part(p_partkey)',\n",
       " 'partsupp(ps_partkey)']"
      ]
     },
     "execution_count": 3,
     "metadata": {},
     "output_type": "execute_result"
    }
   ],
   "source": [
    "experiment"
   ]
  },
  {
   "cell_type": "code",
   "execution_count": 10,
   "metadata": {},
   "outputs": [
    {
     "data": {
      "text/plain": [
       "'[\"lineitem(l_orderkey)\", \"lineitem(l_partkey,l_shipdate,l_suppkey)\", \"lineitem(l_receiptdate)\", \"lineitem(l_shipdate)\", \"orders(o_custkey,o_orderdate,o_orderkey)\", \"orders(o_orderdate)\", \"orders(o_orderkey)\", \"part(p_partkey)\", \"partsupp(ps_partkey)\"]'"
      ]
     },
     "execution_count": 10,
     "metadata": {},
     "output_type": "execute_result"
    }
   ],
   "source": [
    "filtered_df[filtered_df[\"clauses\"]=='w'].sort_values('cost estimate')['indexed columns'].iloc[0]"
   ]
  },
  {
   "cell_type": "code",
   "execution_count": 12,
   "metadata": {},
   "outputs": [],
   "source": [
    "best_unfiltered = [\"customer(c_custkey,c_nationkey,c_mktsegment,c_acctbal)\", \"lineitem(l_orderkey)\", \"lineitem(l_orderkey,l_receiptdate)\", \"lineitem(l_partkey,l_shipdate,l_suppkey)\", \"lineitem(l_receiptdate)\", \"lineitem(l_shipdate)\", \"orders(o_custkey,o_orderdate,o_orderkey,o_shippriority)\", \"orders(o_orderdate)\", \"orders(o_orderkey,o_orderpriority)\", \"part(p_partkey,p_type,p_name)\", \"partsupp(ps_partkey)\"]\n",
    "best_w = ast.literal_eval(filtered_df[filtered_df[\"clauses\"]=='w'].sort_values('cost estimate')['indexed columns'].iloc[0])\n",
    "best_ws = ast.literal_eval(filtered_df[filtered_df[\"clauses\"]=='ws'].sort_values('cost estimate')['indexed columns'].iloc[0])\n",
    "best_wg = ast.literal_eval(filtered_df[filtered_df[\"clauses\"]=='wg'].sort_values('cost estimate')['indexed columns'].iloc[0])\n",
    "best_wgs = ast.literal_eval(filtered_df[filtered_df[\"clauses\"]=='wgs'].sort_values('cost estimate')['indexed columns'].iloc[0])\n",
    "\n"
   ]
  },
  {
   "cell_type": "code",
   "execution_count": 18,
   "metadata": {},
   "outputs": [],
   "source": [
    "cols_unfiltered = set([a for l in best_unfiltered for a in l.split('(')[1][:-1].split(\",\")])\n",
    "cols_w = set([a for l in best_w for a in l.split('(')[1][:-1].split(\",\")])\n",
    "cols_ws = set([a for l in best_ws for a in l.split('(')[1][:-1].split(\",\")])\n",
    "cols_wg = set([a for l in best_wg for a in l.split('(')[1][:-1].split(\",\")])\n",
    "cols_wgs = set([a for l in best_wgs for a in l.split('(')[1][:-1].split(\",\")])"
   ]
  },
  {
   "cell_type": "code",
   "execution_count": 32,
   "metadata": {},
   "outputs": [
    {
     "data": {
      "text/plain": [
       "{'customer(c_custkey,c_nationkey,c_mktsegment,c_acctbal)',\n",
       " 'lineitem(l_orderkey)',\n",
       " 'lineitem(l_orderkey,l_receiptdate)',\n",
       " 'lineitem(l_partkey,l_shipdate,l_suppkey)',\n",
       " 'lineitem(l_receiptdate)',\n",
       " 'lineitem(l_shipdate)',\n",
       " 'orders(o_custkey,o_orderdate,o_orderkey,o_shippriority)',\n",
       " 'orders(o_orderdate)',\n",
       " 'orders(o_orderkey,o_orderpriority)',\n",
       " 'part(p_partkey,p_type,p_name)',\n",
       " 'partsupp(ps_partkey)'}"
      ]
     },
     "execution_count": 32,
     "metadata": {},
     "output_type": "execute_result"
    }
   ],
   "source": [
    "set([l for l in best_unfiltered])\n",
    "set([l for l in best_unfiltered])"
   ]
  },
  {
   "cell_type": "code",
   "execution_count": 27,
   "metadata": {},
   "outputs": [
    {
     "name": "stdout",
     "output_type": "stream",
     "text": [
      "{'c_acctbal', 'o_shippriority', 'c_mktsegment', 'c_custkey', 'c_nationkey', 'p_type', 'p_name', 'o_orderpriority'}\n",
      "set()\n"
     ]
    }
   ],
   "source": [
    "print(cols_unfiltered.difference(cols_w))\n",
    "print(cols_w.difference(cols_unfiltered))"
   ]
  },
  {
   "cell_type": "code",
   "execution_count": 28,
   "metadata": {},
   "outputs": [
    {
     "name": "stdout",
     "output_type": "stream",
     "text": [
      "{'c_acctbal', 'c_mktsegment', 'p_type', 'p_name'}\n",
      "{'c_address'}\n"
     ]
    }
   ],
   "source": [
    "print(cols_unfiltered.difference(cols_wg))\n",
    "print(cols_wg.difference(cols_unfiltered))"
   ]
  },
  {
   "cell_type": "code",
   "execution_count": 29,
   "metadata": {},
   "outputs": [
    {
     "name": "stdout",
     "output_type": "stream",
     "text": [
      "{'c_acctbal', 'o_shippriority', 'c_nationkey', 'p_type', 'p_name'}\n",
      "set()\n"
     ]
    }
   ],
   "source": [
    "print(cols_unfiltered.difference(cols_ws))\n",
    "print(cols_ws.difference(cols_unfiltered))"
   ]
  },
  {
   "cell_type": "code",
   "execution_count": 30,
   "metadata": {},
   "outputs": [
    {
     "name": "stdout",
     "output_type": "stream",
     "text": [
      "{'c_acctbal', 'c_mktsegment', 'p_type', 'p_name'}\n",
      "{'c_address'}\n"
     ]
    }
   ],
   "source": [
    "print(cols_unfiltered.difference(cols_wgs))\n",
    "print(cols_wgs.difference(cols_unfiltered))"
   ]
  },
  {
   "cell_type": "code",
   "execution_count": 31,
   "metadata": {},
   "outputs": [
    {
     "name": "stdout",
     "output_type": "stream",
     "text": [
      "{'c_acctbal', 'p_type', 'p_name'}\n",
      "{'c_address'}\n"
     ]
    }
   ],
   "source": [
    "cols_all = cols_wgs.union(cols_w, cols_wg, cols_ws)\n",
    "print(cols_unfiltered.difference(cols_all))\n",
    "print(cols_all.difference(cols_unfiltered))"
   ]
  },
  {
   "cell_type": "code",
   "execution_count": null,
   "metadata": {},
   "outputs": [],
   "source": []
  }
 ],
 "metadata": {
  "kernelspec": {
   "display_name": "Python 3",
   "language": "python",
   "name": "python3"
  },
  "language_info": {
   "codemirror_mode": {
    "name": "ipython",
    "version": 3
   },
   "file_extension": ".py",
   "mimetype": "text/x-python",
   "name": "python",
   "nbconvert_exporter": "python",
   "pygments_lexer": "ipython3",
   "version": "3.8.10"
  }
 },
 "nbformat": 4,
 "nbformat_minor": 2
}
